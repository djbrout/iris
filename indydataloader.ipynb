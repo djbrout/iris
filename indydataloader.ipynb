{
 "cells": [
  {
   "cell_type": "code",
   "execution_count": 1,
   "metadata": {
    "collapsed": false
   },
   "outputs": [],
   "source": [
    "import pandas as pd\n",
    "import io\n",
    "import numpy as np\n",
    "log = io.open('sprace.log',encoding='windows-1252').readlines()\n",
    "data = pd.DataFrame({'1':[],'2':[],'3':[],'':[],'5':[],'6':[],\n",
    "                 '7':[],'8':[],'9':[],'10':[],'11':[],'12':[],\n",
    "                 '13':[],'14':[],'15':[],'16':[],'17':[],'18':[],'19':[]})\n",
    "columns = [str(i+1) for i in range(19)]"
   ]
  },
  {
   "cell_type": "code",
   "execution_count": 2,
   "metadata": {
    "collapsed": false
   },
   "outputs": [],
   "source": [
    "for l in log:\n",
    "    if l.split(u'¦')[0] == u'$E':\n",
    "        newdata = pd.DataFrame([np.array(l.split(u'¦'),dtype='str')],columns=columns)\n",
    "        data = data.append(newdata)"
   ]
  },
  {
   "cell_type": "code",
   "execution_count": 3,
   "metadata": {
    "collapsed": false
   },
   "outputs": [
    {
     "data": {
      "text/plain": [
       "<bound method DataFrame.head of          1       10   11  12     13       14                          15   16  \\\n",
       "0  NaN  $E  IndyCar  461  X2  D/C/F  Veteran                 Team Penske   12   \n",
       "0  NaN  $E  IndyCar  326  X2  D/H/F  Veteran  Target Chip Ganassi Racing   25   \n",
       "0  NaN  $E  IndyCar  480  X2  D/C/F  Veteran          Andretti Autosport    3   \n",
       "0  NaN  $E  IndyCar  466  X2  D/H/F  Veteran           Dale Coyne Racing  129   \n",
       "0  NaN  $E  IndyCar  658  X2  D/H/F   Rookie     Sam Schmidt Motorsports   24   \n",
       "0  NaN  $E  IndyCar  369  X2  D/C/F  Veteran          Andretti Autosport    3   \n",
       "0  NaN  $E  IndyCar  738  X2  D/C/F  Veteran        KV Racing Technology  130   \n",
       "0  NaN  $E  IndyCar  443  X2  D/C/F  Veteran              Panther Racing   17   \n",
       "0  NaN  $E  IndyCar  294  X2  D/C/F  Veteran        KV Racing Technology  130   \n",
       "0  NaN  $E  IndyCar  529  X2  D/L/F  Veteran            Lotus HVM Racing  131   \n",
       "0  NaN  $E  IndyCar  371  X2  D/L/F  Veteran         Lotus Dragon Racing   28   \n",
       "0  NaN  $E  IndyCar  459  X2  D/C/F  Veteran          Andretti Autosport    3   \n",
       "0  NaN  $E  IndyCar  611  X2  D/L/F   Rookie         Lotus Dragon Racing   28   \n",
       "0  NaN  $E  IndyCar  461  X2  D/C/F  Veteran                 Team Penske   12   \n",
       "0  NaN  $E  IndyCar  326  X2  D/H/F  Veteran  Target Chip Ganassi Racing   25   \n",
       "0  NaN  $E  IndyCar  480  X2  D/C/F  Veteran          Andretti Autosport    3   \n",
       "0  NaN  $E  IndyCar  466  X2  D/H/F  Veteran           Dale Coyne Racing  129   \n",
       "0  NaN  $E  IndyCar  658  X2  D/H/F   Rookie     Sam Schmidt Motorsports   24   \n",
       "0  NaN  $E  IndyCar  369  X2  D/C/F  Veteran          Andretti Autosport    3   \n",
       "0  NaN  $E  IndyCar  738  X2  D/C/F  Veteran        KV Racing Technology  130   \n",
       "0  NaN  $E  IndyCar  443  X2  D/C/F  Veteran              Panther Racing   17   \n",
       "0  NaN  $E  IndyCar  294  X2  D/C/F  Veteran        KV Racing Technology  130   \n",
       "0  NaN  $E  IndyCar  529  X2  D/L/F  Veteran            Lotus HVM Racing  131   \n",
       "0  NaN  $E  IndyCar  371  X2  D/L/F  Veteran         Lotus Dragon Racing   28   \n",
       "0  NaN  $E  IndyCar  459  X2  D/C/F  Veteran          Andretti Autosport    3   \n",
       "0  NaN  $E  IndyCar  611  X2  D/L/F   Rookie         Lotus Dragon Racing   28   \n",
       "0  NaN  $E  IndyCar  461  X2  D/C/F  Veteran                 Team Penske   12   \n",
       "0  NaN  $E  IndyCar  326  X2  D/H/F  Veteran  Target Chip Ganassi Racing   25   \n",
       "0  NaN  $E  IndyCar  480  X2  D/C/F  Veteran          Andretti Autosport    3   \n",
       "0  NaN  $E  IndyCar  466  X2  D/H/F  Veteran           Dale Coyne Racing  129   \n",
       "..  ..  ..      ...  ...  ..    ...      ...                         ...  ...   \n",
       "0  NaN  $E  IndyCar  461  X2  D/C/F  Veteran                 Team Penske   12   \n",
       "0  NaN  $E  IndyCar  480  X2  D/C/F  Veteran          Andretti Autosport    3   \n",
       "0  NaN  $E  IndyCar  326  X2  D/H/F  Veteran  Target Chip Ganassi Racing   25   \n",
       "0  NaN  $E  IndyCar  296  X2  D/H/F  Veteran  Target Chip Ganassi Racing   25   \n",
       "0  NaN  $E  IndyCar  466  X2  D/H/F  Veteran           Dale Coyne Racing  129   \n",
       "0  NaN  $E  IndyCar  442  X2  D/C/F  Veteran          Andretti Autosport    3   \n",
       "0  NaN  $E  IndyCar  461  X2  D/C/F  Veteran                 Team Penske   12   \n",
       "0  NaN  $E  IndyCar  480  X2  D/C/F  Veteran          Andretti Autosport    3   \n",
       "0  NaN  $E  IndyCar  326  X2  D/H/F  Veteran  Target Chip Ganassi Racing   25   \n",
       "0  NaN  $E  IndyCar  296  X2  D/H/F  Veteran  Target Chip Ganassi Racing   25   \n",
       "0  NaN  $E  IndyCar  466  X2  D/H/F  Veteran           Dale Coyne Racing  129   \n",
       "0  NaN  $E  IndyCar  442  X2  D/C/F  Veteran          Andretti Autosport    3   \n",
       "0  NaN  $E  IndyCar  461  X2  D/C/F  Veteran                 Team Penske   12   \n",
       "0  NaN  $E  IndyCar  480  X2  D/C/F  Veteran          Andretti Autosport    3   \n",
       "0  NaN  $E  IndyCar  326  X2  D/H/F  Veteran  Target Chip Ganassi Racing   25   \n",
       "0  NaN  $E  IndyCar  296  X2  D/H/F  Veteran  Target Chip Ganassi Racing   25   \n",
       "0  NaN  $E  IndyCar  466  X2  D/H/F  Veteran           Dale Coyne Racing  129   \n",
       "0  NaN  $E  IndyCar  442  X2  D/C/F  Veteran          Andretti Autosport    3   \n",
       "0  NaN  $E  IndyCar  461  X2  D/C/F  Veteran                 Team Penske   12   \n",
       "0  NaN  $E  IndyCar  480  X2  D/C/F  Veteran          Andretti Autosport    3   \n",
       "0  NaN  $E  IndyCar  326  X2  D/H/F  Veteran  Target Chip Ganassi Racing   25   \n",
       "0  NaN  $E  IndyCar  296  X2  D/H/F  Veteran  Target Chip Ganassi Racing   25   \n",
       "0  NaN  $E  IndyCar  466  X2  D/H/F  Veteran           Dale Coyne Racing  129   \n",
       "0  NaN  $E  IndyCar  442  X2  D/C/F  Veteran          Andretti Autosport    3   \n",
       "0  NaN  $E  IndyCar  461  X2  D/C/F  Veteran                 Team Penske   12   \n",
       "0  NaN  $E  IndyCar  480  X2  D/C/F  Veteran          Andretti Autosport    3   \n",
       "0  NaN  $E  IndyCar  326  X2  D/H/F  Veteran  Target Chip Ganassi Racing   25   \n",
       "0  NaN  $E  IndyCar  296  X2  D/H/F  Veteran  Target Chip Ganassi Racing   25   \n",
       "0  NaN  $E  IndyCar  466  X2  D/H/F  Veteran           Dale Coyne Racing  129   \n",
       "0  NaN  $E  IndyCar  442  X2  D/C/F  Veteran          Andretti Autosport    3   \n",
       "\n",
       "       17  18     19  2  3     4   5  6                    7  8  9  \n",
       "0   Chevy  11   2A\\n  N  0  Q1.I  12  0           Will Power  0  9  \n",
       "0   Honda   8   27\\n  N  1  Q1.I   9  1          Scott Dixon  0  9  \n",
       "0   Chevy  19   39\\n  N  2  Q1.I  27  2    James Hinchcliffe  0  9  \n",
       "0   Honda  14   30\\n  N  3  Q1.I  18  3        Justin Wilson  0  9  \n",
       "0   Honda  23   3D\\n  N  4  Q1.I  77  4       Simon Pagenaud  0  9  \n",
       "0   Chevy  18   38\\n  N  5  Q1.I  26  5       Marco Andretti  0  9  \n",
       "0   Chevy   7   26\\n  N  6  Q1.I   8  6   Rubens Barrichello  0  9  \n",
       "0   Chevy   3   C7\\n  N  7  Q1.I   4  7        JR Hildebrand  0  9  \n",
       "0   Chevy  10   37\\n  N  8  Q1.I  11  8          Tony Kanaan  0  9  \n",
       "0   Lotus  24   1F\\n  N  9  Q1.I  78  9  Simona de Silvestro  0  9  \n",
       "0   Lotus   6   25\\n  N  A  Q1.I   7  A   Sebastien Bourdais  0  9  \n",
       "0   Chevy  27  144\\n  N  B  Q1.I  25  B          Ana Beatriz  0  9  \n",
       "0   Lotus   5   24\\n  N  C  Q1.I   6  C      Katherine Legge  0  9  \n",
       "0   Chevy  11   2A\\n  R  0  Q1.I  12  0           Will Power  1  9  \n",
       "0   Honda   8   27\\n  R  1  Q1.I   9  1          Scott Dixon  2  9  \n",
       "0   Chevy  19   39\\n  R  2  Q1.I  27  2    James Hinchcliffe  3  9  \n",
       "0   Honda  14   30\\n  R  3  Q1.I  18  3        Justin Wilson  4  9  \n",
       "0   Honda  23   3D\\n  R  4  Q1.I  77  4       Simon Pagenaud  5  9  \n",
       "0   Chevy  18   38\\n  R  5  Q1.I  26  5       Marco Andretti  6  9  \n",
       "0   Chevy   7   26\\n  R  6  Q1.I   8  6   Rubens Barrichello  7  9  \n",
       "0   Chevy   3   C7\\n  R  7  Q1.I   4  7        JR Hildebrand  8  9  \n",
       "0   Chevy  10   37\\n  R  8  Q1.I  11  8          Tony Kanaan  9  9  \n",
       "0   Lotus  24   1F\\n  R  9  Q1.I  78  9  Simona de Silvestro  A  9  \n",
       "0   Lotus   6   25\\n  R  A  Q1.I   7  A   Sebastien Bourdais  B  9  \n",
       "0   Chevy  27  144\\n  R  B  Q1.I  25  B          Ana Beatriz  C  9  \n",
       "0   Lotus   5   24\\n  R  C  Q1.I   6  C      Katherine Legge  D  9  \n",
       "0   Chevy  11   2A\\n  R  0  Q1.I  12  0           Will Power  1  9  \n",
       "0   Honda   8   27\\n  R  1  Q1.I   9  1          Scott Dixon  2  9  \n",
       "0   Chevy  19   39\\n  R  2  Q1.I  27  2    James Hinchcliffe  3  9  \n",
       "0   Honda  14   30\\n  R  3  Q1.I  18  3        Justin Wilson  4  9  \n",
       "..    ...  ..    ... .. ..   ...  .. ..                  ... .. ..  \n",
       "0   Chevy  11   2A\\n  R  0  Q4.I  12  0           Will Power  1  9  \n",
       "0   Chevy  19   39\\n  R  1  Q4.I  27  1    James Hinchcliffe  2  9  \n",
       "0   Honda   8   27\\n  R  2  Q4.I   9  2          Scott Dixon  3  9  \n",
       "0   Honda   9  124\\n  R  3  Q4.I  10  3     Dario Franchitti  4  9  \n",
       "0   Honda  14   30\\n  R  4  Q4.I  18  4        Justin Wilson  5  9  \n",
       "0   Chevy  20   35\\n  R  5  Q4.I  28  5     Ryan Hunter-Reay  6  9  \n",
       "0   Chevy  11   2A\\n  R  0  Q4.I  12  0           Will Power  1  9  \n",
       "0   Chevy  19   39\\n  R  1  Q4.I  27  1    James Hinchcliffe  2  9  \n",
       "0   Honda   8   27\\n  R  2  Q4.I   9  2          Scott Dixon  3  9  \n",
       "0   Honda   9  124\\n  R  3  Q4.I  10  3     Dario Franchitti  4  9  \n",
       "0   Honda  14   30\\n  R  4  Q4.I  18  4        Justin Wilson  5  9  \n",
       "0   Chevy  20   35\\n  R  5  Q4.I  28  5     Ryan Hunter-Reay  6  9  \n",
       "0   Chevy  11   2A\\n  R  0  Q4.I  12  0           Will Power  1  9  \n",
       "0   Chevy  19   39\\n  R  1  Q4.I  27  1    James Hinchcliffe  2  9  \n",
       "0   Honda   8   27\\n  R  2  Q4.I   9  2          Scott Dixon  3  9  \n",
       "0   Honda   9  124\\n  R  3  Q4.I  10  3     Dario Franchitti  4  9  \n",
       "0   Honda  14   30\\n  R  4  Q4.I  18  4        Justin Wilson  5  9  \n",
       "0   Chevy  20   35\\n  R  5  Q4.I  28  5     Ryan Hunter-Reay  6  9  \n",
       "0   Chevy  11   2A\\n  R  0  Q4.I  12  0           Will Power  1  9  \n",
       "0   Chevy  19   39\\n  R  1  Q4.I  27  1    James Hinchcliffe  2  9  \n",
       "0   Honda   8   27\\n  R  2  Q4.I   9  2          Scott Dixon  3  9  \n",
       "0   Honda   9  124\\n  R  3  Q4.I  10  3     Dario Franchitti  4  9  \n",
       "0   Honda  14   30\\n  R  4  Q4.I  18  4        Justin Wilson  5  9  \n",
       "0   Chevy  20   35\\n  R  5  Q4.I  28  5     Ryan Hunter-Reay  6  9  \n",
       "0   Chevy  11   2A\\n  R  0  Q4.I  12  0           Will Power  1  9  \n",
       "0   Chevy  19   39\\n  R  1  Q4.I  27  1    James Hinchcliffe  2  9  \n",
       "0   Honda   8   27\\n  R  2  Q4.I   9  2          Scott Dixon  3  9  \n",
       "0   Honda   9  124\\n  R  3  Q4.I  10  3     Dario Franchitti  4  9  \n",
       "0   Honda  14   30\\n  R  4  Q4.I  18  4        Justin Wilson  5  9  \n",
       "0   Chevy  20   35\\n  R  5  Q4.I  28  5     Ryan Hunter-Reay  6  9  \n",
       "\n",
       "[1671 rows x 20 columns]>"
      ]
     },
     "execution_count": 3,
     "metadata": {},
     "output_type": "execute_result"
    }
   ],
   "source": [
    "data.head"
   ]
  },
  {
   "cell_type": "code",
   "execution_count": 4,
   "metadata": {
    "collapsed": false
   },
   "outputs": [
    {
     "data": {
      "text/plain": [
       "(1671, 20)"
      ]
     },
     "execution_count": 4,
     "metadata": {},
     "output_type": "execute_result"
    }
   ],
   "source": [
    "np.shape(data)"
   ]
  },
  {
   "cell_type": "code",
   "execution_count": null,
   "metadata": {
    "collapsed": true
   },
   "outputs": [],
   "source": []
  }
 ],
 "metadata": {
  "kernelspec": {
   "display_name": "Python 2",
   "language": "python",
   "name": "python2"
  },
  "language_info": {
   "codemirror_mode": {
    "name": "ipython",
    "version": 2
   },
   "file_extension": ".py",
   "mimetype": "text/x-python",
   "name": "python",
   "nbconvert_exporter": "python",
   "pygments_lexer": "ipython2",
   "version": "2.7.10"
  }
 },
 "nbformat": 4,
 "nbformat_minor": 1
}
